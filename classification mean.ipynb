{
 "cells": [
  {
   "cell_type": "code",
   "execution_count": 1,
   "id": "a60ecff6",
   "metadata": {},
   "outputs": [
    {
     "name": "stdout",
     "output_type": "stream",
     "text": [
      "<class 'pandas.core.frame.DataFrame'>\n",
      "RangeIndex: 43824 entries, 0 to 43823\n",
      "Data columns (total 13 columns):\n",
      " #   Column  Non-Null Count  Dtype  \n",
      "---  ------  --------------  -----  \n",
      " 0   No      43824 non-null  int64  \n",
      " 1   year    43824 non-null  int64  \n",
      " 2   month   43824 non-null  int64  \n",
      " 3   day     43824 non-null  int64  \n",
      " 4   hour    43824 non-null  int64  \n",
      " 5   pm2.5   41757 non-null  float64\n",
      " 6   DEWP    43824 non-null  int64  \n",
      " 7   TEMP    43824 non-null  float64\n",
      " 8   PRES    43824 non-null  float64\n",
      " 9   cbwd    43824 non-null  object \n",
      " 10  Iws     43824 non-null  float64\n",
      " 11  Is      43824 non-null  int64  \n",
      " 12  Ir      43824 non-null  int64  \n",
      "dtypes: float64(4), int64(8), object(1)\n",
      "memory usage: 4.3+ MB\n"
     ]
    }
   ],
   "source": [
    "import numpy as np\n",
    "import pandas as pd\n",
    "import seaborn as sns\n",
    "data=pd.read_csv('dataset.csv')\n",
    "data.info()"
   ]
  },
  {
   "cell_type": "code",
   "execution_count": 2,
   "id": "5caf3345",
   "metadata": {},
   "outputs": [],
   "source": [
    "data\n",
    "results = []\n",
    "names = []\n"
   ]
  },
  {
   "cell_type": "code",
   "execution_count": 3,
   "id": "e9b714a9",
   "metadata": {},
   "outputs": [
    {
     "data": {
      "text/plain": [
       "No          0\n",
       "year        0\n",
       "month       0\n",
       "day         0\n",
       "hour        0\n",
       "pm2.5    2067\n",
       "DEWP        0\n",
       "TEMP        0\n",
       "PRES        0\n",
       "cbwd        0\n",
       "Iws         0\n",
       "Is          0\n",
       "Ir          0\n",
       "dtype: int64"
      ]
     },
     "execution_count": 3,
     "metadata": {},
     "output_type": "execute_result"
    }
   ],
   "source": [
    "data.isnull().sum()"
   ]
  },
  {
   "cell_type": "code",
   "execution_count": 4,
   "id": "3d44ec56",
   "metadata": {},
   "outputs": [],
   "source": [
    "data=data.fillna(data['pm2.5'].mean())"
   ]
  },
  {
   "cell_type": "code",
   "execution_count": 5,
   "id": "0815daa3",
   "metadata": {},
   "outputs": [
    {
     "data": {
      "text/html": [
       "<div>\n",
       "<style scoped>\n",
       "    .dataframe tbody tr th:only-of-type {\n",
       "        vertical-align: middle;\n",
       "    }\n",
       "\n",
       "    .dataframe tbody tr th {\n",
       "        vertical-align: top;\n",
       "    }\n",
       "\n",
       "    .dataframe thead th {\n",
       "        text-align: right;\n",
       "    }\n",
       "</style>\n",
       "<table border=\"1\" class=\"dataframe\">\n",
       "  <thead>\n",
       "    <tr style=\"text-align: right;\">\n",
       "      <th></th>\n",
       "      <th>No</th>\n",
       "      <th>year</th>\n",
       "      <th>month</th>\n",
       "      <th>day</th>\n",
       "      <th>hour</th>\n",
       "      <th>pm2.5</th>\n",
       "      <th>DEWP</th>\n",
       "      <th>TEMP</th>\n",
       "      <th>PRES</th>\n",
       "      <th>cbwd</th>\n",
       "      <th>Iws</th>\n",
       "      <th>Is</th>\n",
       "      <th>Ir</th>\n",
       "    </tr>\n",
       "  </thead>\n",
       "  <tbody>\n",
       "    <tr>\n",
       "      <th>0</th>\n",
       "      <td>1</td>\n",
       "      <td>2010</td>\n",
       "      <td>1</td>\n",
       "      <td>1</td>\n",
       "      <td>0</td>\n",
       "      <td>98.613215</td>\n",
       "      <td>-21</td>\n",
       "      <td>-11.0</td>\n",
       "      <td>1021.0</td>\n",
       "      <td>NW</td>\n",
       "      <td>1.79</td>\n",
       "      <td>0</td>\n",
       "      <td>0</td>\n",
       "    </tr>\n",
       "    <tr>\n",
       "      <th>1</th>\n",
       "      <td>2</td>\n",
       "      <td>2010</td>\n",
       "      <td>1</td>\n",
       "      <td>1</td>\n",
       "      <td>1</td>\n",
       "      <td>98.613215</td>\n",
       "      <td>-21</td>\n",
       "      <td>-12.0</td>\n",
       "      <td>1020.0</td>\n",
       "      <td>NW</td>\n",
       "      <td>4.92</td>\n",
       "      <td>0</td>\n",
       "      <td>0</td>\n",
       "    </tr>\n",
       "    <tr>\n",
       "      <th>2</th>\n",
       "      <td>3</td>\n",
       "      <td>2010</td>\n",
       "      <td>1</td>\n",
       "      <td>1</td>\n",
       "      <td>2</td>\n",
       "      <td>98.613215</td>\n",
       "      <td>-21</td>\n",
       "      <td>-11.0</td>\n",
       "      <td>1019.0</td>\n",
       "      <td>NW</td>\n",
       "      <td>6.71</td>\n",
       "      <td>0</td>\n",
       "      <td>0</td>\n",
       "    </tr>\n",
       "    <tr>\n",
       "      <th>3</th>\n",
       "      <td>4</td>\n",
       "      <td>2010</td>\n",
       "      <td>1</td>\n",
       "      <td>1</td>\n",
       "      <td>3</td>\n",
       "      <td>98.613215</td>\n",
       "      <td>-21</td>\n",
       "      <td>-14.0</td>\n",
       "      <td>1019.0</td>\n",
       "      <td>NW</td>\n",
       "      <td>9.84</td>\n",
       "      <td>0</td>\n",
       "      <td>0</td>\n",
       "    </tr>\n",
       "    <tr>\n",
       "      <th>4</th>\n",
       "      <td>5</td>\n",
       "      <td>2010</td>\n",
       "      <td>1</td>\n",
       "      <td>1</td>\n",
       "      <td>4</td>\n",
       "      <td>98.613215</td>\n",
       "      <td>-20</td>\n",
       "      <td>-12.0</td>\n",
       "      <td>1018.0</td>\n",
       "      <td>NW</td>\n",
       "      <td>12.97</td>\n",
       "      <td>0</td>\n",
       "      <td>0</td>\n",
       "    </tr>\n",
       "    <tr>\n",
       "      <th>...</th>\n",
       "      <td>...</td>\n",
       "      <td>...</td>\n",
       "      <td>...</td>\n",
       "      <td>...</td>\n",
       "      <td>...</td>\n",
       "      <td>...</td>\n",
       "      <td>...</td>\n",
       "      <td>...</td>\n",
       "      <td>...</td>\n",
       "      <td>...</td>\n",
       "      <td>...</td>\n",
       "      <td>...</td>\n",
       "      <td>...</td>\n",
       "    </tr>\n",
       "    <tr>\n",
       "      <th>43819</th>\n",
       "      <td>43820</td>\n",
       "      <td>2014</td>\n",
       "      <td>12</td>\n",
       "      <td>31</td>\n",
       "      <td>19</td>\n",
       "      <td>8.000000</td>\n",
       "      <td>-23</td>\n",
       "      <td>-2.0</td>\n",
       "      <td>1034.0</td>\n",
       "      <td>NW</td>\n",
       "      <td>231.97</td>\n",
       "      <td>0</td>\n",
       "      <td>0</td>\n",
       "    </tr>\n",
       "    <tr>\n",
       "      <th>43820</th>\n",
       "      <td>43821</td>\n",
       "      <td>2014</td>\n",
       "      <td>12</td>\n",
       "      <td>31</td>\n",
       "      <td>20</td>\n",
       "      <td>10.000000</td>\n",
       "      <td>-22</td>\n",
       "      <td>-3.0</td>\n",
       "      <td>1034.0</td>\n",
       "      <td>NW</td>\n",
       "      <td>237.78</td>\n",
       "      <td>0</td>\n",
       "      <td>0</td>\n",
       "    </tr>\n",
       "    <tr>\n",
       "      <th>43821</th>\n",
       "      <td>43822</td>\n",
       "      <td>2014</td>\n",
       "      <td>12</td>\n",
       "      <td>31</td>\n",
       "      <td>21</td>\n",
       "      <td>10.000000</td>\n",
       "      <td>-22</td>\n",
       "      <td>-3.0</td>\n",
       "      <td>1034.0</td>\n",
       "      <td>NW</td>\n",
       "      <td>242.70</td>\n",
       "      <td>0</td>\n",
       "      <td>0</td>\n",
       "    </tr>\n",
       "    <tr>\n",
       "      <th>43822</th>\n",
       "      <td>43823</td>\n",
       "      <td>2014</td>\n",
       "      <td>12</td>\n",
       "      <td>31</td>\n",
       "      <td>22</td>\n",
       "      <td>8.000000</td>\n",
       "      <td>-22</td>\n",
       "      <td>-4.0</td>\n",
       "      <td>1034.0</td>\n",
       "      <td>NW</td>\n",
       "      <td>246.72</td>\n",
       "      <td>0</td>\n",
       "      <td>0</td>\n",
       "    </tr>\n",
       "    <tr>\n",
       "      <th>43823</th>\n",
       "      <td>43824</td>\n",
       "      <td>2014</td>\n",
       "      <td>12</td>\n",
       "      <td>31</td>\n",
       "      <td>23</td>\n",
       "      <td>12.000000</td>\n",
       "      <td>-21</td>\n",
       "      <td>-3.0</td>\n",
       "      <td>1034.0</td>\n",
       "      <td>NW</td>\n",
       "      <td>249.85</td>\n",
       "      <td>0</td>\n",
       "      <td>0</td>\n",
       "    </tr>\n",
       "  </tbody>\n",
       "</table>\n",
       "<p>43824 rows × 13 columns</p>\n",
       "</div>"
      ],
      "text/plain": [
       "          No  year  month  day  hour      pm2.5  DEWP  TEMP    PRES cbwd  \\\n",
       "0          1  2010      1    1     0  98.613215   -21 -11.0  1021.0   NW   \n",
       "1          2  2010      1    1     1  98.613215   -21 -12.0  1020.0   NW   \n",
       "2          3  2010      1    1     2  98.613215   -21 -11.0  1019.0   NW   \n",
       "3          4  2010      1    1     3  98.613215   -21 -14.0  1019.0   NW   \n",
       "4          5  2010      1    1     4  98.613215   -20 -12.0  1018.0   NW   \n",
       "...      ...   ...    ...  ...   ...        ...   ...   ...     ...  ...   \n",
       "43819  43820  2014     12   31    19   8.000000   -23  -2.0  1034.0   NW   \n",
       "43820  43821  2014     12   31    20  10.000000   -22  -3.0  1034.0   NW   \n",
       "43821  43822  2014     12   31    21  10.000000   -22  -3.0  1034.0   NW   \n",
       "43822  43823  2014     12   31    22   8.000000   -22  -4.0  1034.0   NW   \n",
       "43823  43824  2014     12   31    23  12.000000   -21  -3.0  1034.0   NW   \n",
       "\n",
       "          Iws  Is  Ir  \n",
       "0        1.79   0   0  \n",
       "1        4.92   0   0  \n",
       "2        6.71   0   0  \n",
       "3        9.84   0   0  \n",
       "4       12.97   0   0  \n",
       "...       ...  ..  ..  \n",
       "43819  231.97   0   0  \n",
       "43820  237.78   0   0  \n",
       "43821  242.70   0   0  \n",
       "43822  246.72   0   0  \n",
       "43823  249.85   0   0  \n",
       "\n",
       "[43824 rows x 13 columns]"
      ]
     },
     "execution_count": 5,
     "metadata": {},
     "output_type": "execute_result"
    }
   ],
   "source": [
    "data"
   ]
  },
  {
   "cell_type": "code",
   "execution_count": 6,
   "id": "51161a95",
   "metadata": {},
   "outputs": [],
   "source": [
    "data=data.drop(['No'],axis=1)"
   ]
  },
  {
   "cell_type": "code",
   "execution_count": 7,
   "id": "6eadb35f",
   "metadata": {},
   "outputs": [
    {
     "name": "stdout",
     "output_type": "stream",
     "text": [
      "<class 'pandas.core.frame.DataFrame'>\n",
      "RangeIndex: 43824 entries, 0 to 43823\n",
      "Data columns (total 12 columns):\n",
      " #   Column  Non-Null Count  Dtype   \n",
      "---  ------  --------------  -----   \n",
      " 0   year    43824 non-null  int64   \n",
      " 1   month   43824 non-null  int64   \n",
      " 2   day     43824 non-null  int64   \n",
      " 3   hour    43824 non-null  int64   \n",
      " 4   pm2.5   43824 non-null  float64 \n",
      " 5   DEWP    43824 non-null  int64   \n",
      " 6   TEMP    43824 non-null  float64 \n",
      " 7   PRES    43824 non-null  float64 \n",
      " 8   cbwd    43824 non-null  category\n",
      " 9   Iws     43824 non-null  float64 \n",
      " 10  Is      43824 non-null  int64   \n",
      " 11  Ir      43824 non-null  int64   \n",
      "dtypes: category(1), float64(4), int64(7)\n",
      "memory usage: 3.7 MB\n"
     ]
    }
   ],
   "source": [
    "data['cbwd']=data['cbwd'].astype('category')\n",
    "data.info()"
   ]
  },
  {
   "cell_type": "code",
   "execution_count": 8,
   "id": "c900af8c",
   "metadata": {},
   "outputs": [
    {
     "data": {
      "text/html": [
       "<div>\n",
       "<style scoped>\n",
       "    .dataframe tbody tr th:only-of-type {\n",
       "        vertical-align: middle;\n",
       "    }\n",
       "\n",
       "    .dataframe tbody tr th {\n",
       "        vertical-align: top;\n",
       "    }\n",
       "\n",
       "    .dataframe thead th {\n",
       "        text-align: right;\n",
       "    }\n",
       "</style>\n",
       "<table border=\"1\" class=\"dataframe\">\n",
       "  <thead>\n",
       "    <tr style=\"text-align: right;\">\n",
       "      <th></th>\n",
       "      <th>year</th>\n",
       "      <th>month</th>\n",
       "      <th>day</th>\n",
       "      <th>hour</th>\n",
       "      <th>pm2.5</th>\n",
       "      <th>DEWP</th>\n",
       "      <th>TEMP</th>\n",
       "      <th>PRES</th>\n",
       "      <th>cbwd</th>\n",
       "      <th>Iws</th>\n",
       "      <th>Is</th>\n",
       "      <th>Ir</th>\n",
       "    </tr>\n",
       "  </thead>\n",
       "  <tbody>\n",
       "    <tr>\n",
       "      <th>0</th>\n",
       "      <td>2010</td>\n",
       "      <td>1</td>\n",
       "      <td>1</td>\n",
       "      <td>0</td>\n",
       "      <td>98.613215</td>\n",
       "      <td>-21</td>\n",
       "      <td>-11.0</td>\n",
       "      <td>1021.0</td>\n",
       "      <td>1</td>\n",
       "      <td>1.79</td>\n",
       "      <td>0</td>\n",
       "      <td>0</td>\n",
       "    </tr>\n",
       "    <tr>\n",
       "      <th>1</th>\n",
       "      <td>2010</td>\n",
       "      <td>1</td>\n",
       "      <td>1</td>\n",
       "      <td>1</td>\n",
       "      <td>98.613215</td>\n",
       "      <td>-21</td>\n",
       "      <td>-12.0</td>\n",
       "      <td>1020.0</td>\n",
       "      <td>1</td>\n",
       "      <td>4.92</td>\n",
       "      <td>0</td>\n",
       "      <td>0</td>\n",
       "    </tr>\n",
       "    <tr>\n",
       "      <th>2</th>\n",
       "      <td>2010</td>\n",
       "      <td>1</td>\n",
       "      <td>1</td>\n",
       "      <td>2</td>\n",
       "      <td>98.613215</td>\n",
       "      <td>-21</td>\n",
       "      <td>-11.0</td>\n",
       "      <td>1019.0</td>\n",
       "      <td>1</td>\n",
       "      <td>6.71</td>\n",
       "      <td>0</td>\n",
       "      <td>0</td>\n",
       "    </tr>\n",
       "    <tr>\n",
       "      <th>3</th>\n",
       "      <td>2010</td>\n",
       "      <td>1</td>\n",
       "      <td>1</td>\n",
       "      <td>3</td>\n",
       "      <td>98.613215</td>\n",
       "      <td>-21</td>\n",
       "      <td>-14.0</td>\n",
       "      <td>1019.0</td>\n",
       "      <td>1</td>\n",
       "      <td>9.84</td>\n",
       "      <td>0</td>\n",
       "      <td>0</td>\n",
       "    </tr>\n",
       "    <tr>\n",
       "      <th>4</th>\n",
       "      <td>2010</td>\n",
       "      <td>1</td>\n",
       "      <td>1</td>\n",
       "      <td>4</td>\n",
       "      <td>98.613215</td>\n",
       "      <td>-20</td>\n",
       "      <td>-12.0</td>\n",
       "      <td>1018.0</td>\n",
       "      <td>1</td>\n",
       "      <td>12.97</td>\n",
       "      <td>0</td>\n",
       "      <td>0</td>\n",
       "    </tr>\n",
       "    <tr>\n",
       "      <th>...</th>\n",
       "      <td>...</td>\n",
       "      <td>...</td>\n",
       "      <td>...</td>\n",
       "      <td>...</td>\n",
       "      <td>...</td>\n",
       "      <td>...</td>\n",
       "      <td>...</td>\n",
       "      <td>...</td>\n",
       "      <td>...</td>\n",
       "      <td>...</td>\n",
       "      <td>...</td>\n",
       "      <td>...</td>\n",
       "    </tr>\n",
       "    <tr>\n",
       "      <th>43819</th>\n",
       "      <td>2014</td>\n",
       "      <td>12</td>\n",
       "      <td>31</td>\n",
       "      <td>19</td>\n",
       "      <td>8.000000</td>\n",
       "      <td>-23</td>\n",
       "      <td>-2.0</td>\n",
       "      <td>1034.0</td>\n",
       "      <td>1</td>\n",
       "      <td>231.97</td>\n",
       "      <td>0</td>\n",
       "      <td>0</td>\n",
       "    </tr>\n",
       "    <tr>\n",
       "      <th>43820</th>\n",
       "      <td>2014</td>\n",
       "      <td>12</td>\n",
       "      <td>31</td>\n",
       "      <td>20</td>\n",
       "      <td>10.000000</td>\n",
       "      <td>-22</td>\n",
       "      <td>-3.0</td>\n",
       "      <td>1034.0</td>\n",
       "      <td>1</td>\n",
       "      <td>237.78</td>\n",
       "      <td>0</td>\n",
       "      <td>0</td>\n",
       "    </tr>\n",
       "    <tr>\n",
       "      <th>43821</th>\n",
       "      <td>2014</td>\n",
       "      <td>12</td>\n",
       "      <td>31</td>\n",
       "      <td>21</td>\n",
       "      <td>10.000000</td>\n",
       "      <td>-22</td>\n",
       "      <td>-3.0</td>\n",
       "      <td>1034.0</td>\n",
       "      <td>1</td>\n",
       "      <td>242.70</td>\n",
       "      <td>0</td>\n",
       "      <td>0</td>\n",
       "    </tr>\n",
       "    <tr>\n",
       "      <th>43822</th>\n",
       "      <td>2014</td>\n",
       "      <td>12</td>\n",
       "      <td>31</td>\n",
       "      <td>22</td>\n",
       "      <td>8.000000</td>\n",
       "      <td>-22</td>\n",
       "      <td>-4.0</td>\n",
       "      <td>1034.0</td>\n",
       "      <td>1</td>\n",
       "      <td>246.72</td>\n",
       "      <td>0</td>\n",
       "      <td>0</td>\n",
       "    </tr>\n",
       "    <tr>\n",
       "      <th>43823</th>\n",
       "      <td>2014</td>\n",
       "      <td>12</td>\n",
       "      <td>31</td>\n",
       "      <td>23</td>\n",
       "      <td>12.000000</td>\n",
       "      <td>-21</td>\n",
       "      <td>-3.0</td>\n",
       "      <td>1034.0</td>\n",
       "      <td>1</td>\n",
       "      <td>249.85</td>\n",
       "      <td>0</td>\n",
       "      <td>0</td>\n",
       "    </tr>\n",
       "  </tbody>\n",
       "</table>\n",
       "<p>43824 rows × 12 columns</p>\n",
       "</div>"
      ],
      "text/plain": [
       "       year  month  day  hour      pm2.5  DEWP  TEMP    PRES  cbwd     Iws  \\\n",
       "0      2010      1    1     0  98.613215   -21 -11.0  1021.0     1    1.79   \n",
       "1      2010      1    1     1  98.613215   -21 -12.0  1020.0     1    4.92   \n",
       "2      2010      1    1     2  98.613215   -21 -11.0  1019.0     1    6.71   \n",
       "3      2010      1    1     3  98.613215   -21 -14.0  1019.0     1    9.84   \n",
       "4      2010      1    1     4  98.613215   -20 -12.0  1018.0     1   12.97   \n",
       "...     ...    ...  ...   ...        ...   ...   ...     ...   ...     ...   \n",
       "43819  2014     12   31    19   8.000000   -23  -2.0  1034.0     1  231.97   \n",
       "43820  2014     12   31    20  10.000000   -22  -3.0  1034.0     1  237.78   \n",
       "43821  2014     12   31    21  10.000000   -22  -3.0  1034.0     1  242.70   \n",
       "43822  2014     12   31    22   8.000000   -22  -4.0  1034.0     1  246.72   \n",
       "43823  2014     12   31    23  12.000000   -21  -3.0  1034.0     1  249.85   \n",
       "\n",
       "       Is  Ir  \n",
       "0       0   0  \n",
       "1       0   0  \n",
       "2       0   0  \n",
       "3       0   0  \n",
       "4       0   0  \n",
       "...    ..  ..  \n",
       "43819   0   0  \n",
       "43820   0   0  \n",
       "43821   0   0  \n",
       "43822   0   0  \n",
       "43823   0   0  \n",
       "\n",
       "[43824 rows x 12 columns]"
      ]
     },
     "execution_count": 8,
     "metadata": {},
     "output_type": "execute_result"
    }
   ],
   "source": [
    "from sklearn.preprocessing import LabelEncoder\n",
    "le = LabelEncoder()\n",
    "data['cbwd']=le.fit_transform(data['cbwd'])\n",
    "data"
   ]
  },
  {
   "cell_type": "code",
   "execution_count": 9,
   "id": "ebe4a6ef",
   "metadata": {},
   "outputs": [
    {
     "data": {
      "text/html": [
       "<div>\n",
       "<style scoped>\n",
       "    .dataframe tbody tr th:only-of-type {\n",
       "        vertical-align: middle;\n",
       "    }\n",
       "\n",
       "    .dataframe tbody tr th {\n",
       "        vertical-align: top;\n",
       "    }\n",
       "\n",
       "    .dataframe thead th {\n",
       "        text-align: right;\n",
       "    }\n",
       "</style>\n",
       "<table border=\"1\" class=\"dataframe\">\n",
       "  <thead>\n",
       "    <tr style=\"text-align: right;\">\n",
       "      <th></th>\n",
       "      <th>year</th>\n",
       "      <th>month</th>\n",
       "      <th>day</th>\n",
       "      <th>hour</th>\n",
       "      <th>pm2.5</th>\n",
       "      <th>DEWP</th>\n",
       "      <th>TEMP</th>\n",
       "      <th>PRES</th>\n",
       "      <th>cbwd</th>\n",
       "      <th>Iws</th>\n",
       "      <th>Is</th>\n",
       "      <th>Ir</th>\n",
       "    </tr>\n",
       "  </thead>\n",
       "  <tbody>\n",
       "    <tr>\n",
       "      <th>0</th>\n",
       "      <td>2010</td>\n",
       "      <td>1</td>\n",
       "      <td>1</td>\n",
       "      <td>0</td>\n",
       "      <td>98.613215</td>\n",
       "      <td>-1.580878</td>\n",
       "      <td>-1.922250</td>\n",
       "      <td>0.443328</td>\n",
       "      <td>1</td>\n",
       "      <td>-0.441894</td>\n",
       "      <td>-0.069353</td>\n",
       "      <td>-0.137667</td>\n",
       "    </tr>\n",
       "    <tr>\n",
       "      <th>1</th>\n",
       "      <td>2010</td>\n",
       "      <td>1</td>\n",
       "      <td>1</td>\n",
       "      <td>1</td>\n",
       "      <td>98.613215</td>\n",
       "      <td>-1.580878</td>\n",
       "      <td>-2.004228</td>\n",
       "      <td>0.345943</td>\n",
       "      <td>1</td>\n",
       "      <td>-0.379306</td>\n",
       "      <td>-0.069353</td>\n",
       "      <td>-0.137667</td>\n",
       "    </tr>\n",
       "    <tr>\n",
       "      <th>2</th>\n",
       "      <td>2010</td>\n",
       "      <td>1</td>\n",
       "      <td>1</td>\n",
       "      <td>2</td>\n",
       "      <td>98.613215</td>\n",
       "      <td>-1.580878</td>\n",
       "      <td>-1.922250</td>\n",
       "      <td>0.248559</td>\n",
       "      <td>1</td>\n",
       "      <td>-0.343514</td>\n",
       "      <td>-0.069353</td>\n",
       "      <td>-0.137667</td>\n",
       "    </tr>\n",
       "    <tr>\n",
       "      <th>3</th>\n",
       "      <td>2010</td>\n",
       "      <td>1</td>\n",
       "      <td>1</td>\n",
       "      <td>3</td>\n",
       "      <td>98.613215</td>\n",
       "      <td>-1.580878</td>\n",
       "      <td>-2.168183</td>\n",
       "      <td>0.248559</td>\n",
       "      <td>1</td>\n",
       "      <td>-0.280926</td>\n",
       "      <td>-0.069353</td>\n",
       "      <td>-0.137667</td>\n",
       "    </tr>\n",
       "    <tr>\n",
       "      <th>4</th>\n",
       "      <td>2010</td>\n",
       "      <td>1</td>\n",
       "      <td>1</td>\n",
       "      <td>4</td>\n",
       "      <td>98.613215</td>\n",
       "      <td>-1.511594</td>\n",
       "      <td>-2.004228</td>\n",
       "      <td>0.151174</td>\n",
       "      <td>1</td>\n",
       "      <td>-0.218339</td>\n",
       "      <td>-0.069353</td>\n",
       "      <td>-0.137667</td>\n",
       "    </tr>\n",
       "    <tr>\n",
       "      <th>...</th>\n",
       "      <td>...</td>\n",
       "      <td>...</td>\n",
       "      <td>...</td>\n",
       "      <td>...</td>\n",
       "      <td>...</td>\n",
       "      <td>...</td>\n",
       "      <td>...</td>\n",
       "      <td>...</td>\n",
       "      <td>...</td>\n",
       "      <td>...</td>\n",
       "      <td>...</td>\n",
       "      <td>...</td>\n",
       "    </tr>\n",
       "    <tr>\n",
       "      <th>43819</th>\n",
       "      <td>2014</td>\n",
       "      <td>12</td>\n",
       "      <td>31</td>\n",
       "      <td>19</td>\n",
       "      <td>8.000000</td>\n",
       "      <td>-1.719447</td>\n",
       "      <td>-1.184453</td>\n",
       "      <td>1.709325</td>\n",
       "      <td>1</td>\n",
       "      <td>4.160780</td>\n",
       "      <td>-0.069353</td>\n",
       "      <td>-0.137667</td>\n",
       "    </tr>\n",
       "    <tr>\n",
       "      <th>43820</th>\n",
       "      <td>2014</td>\n",
       "      <td>12</td>\n",
       "      <td>31</td>\n",
       "      <td>20</td>\n",
       "      <td>10.000000</td>\n",
       "      <td>-1.650162</td>\n",
       "      <td>-1.266431</td>\n",
       "      <td>1.709325</td>\n",
       "      <td>1</td>\n",
       "      <td>4.276956</td>\n",
       "      <td>-0.069353</td>\n",
       "      <td>-0.137667</td>\n",
       "    </tr>\n",
       "    <tr>\n",
       "      <th>43821</th>\n",
       "      <td>2014</td>\n",
       "      <td>12</td>\n",
       "      <td>31</td>\n",
       "      <td>21</td>\n",
       "      <td>10.000000</td>\n",
       "      <td>-1.650162</td>\n",
       "      <td>-1.266431</td>\n",
       "      <td>1.709325</td>\n",
       "      <td>1</td>\n",
       "      <td>4.375337</td>\n",
       "      <td>-0.069353</td>\n",
       "      <td>-0.137667</td>\n",
       "    </tr>\n",
       "    <tr>\n",
       "      <th>43822</th>\n",
       "      <td>2014</td>\n",
       "      <td>12</td>\n",
       "      <td>31</td>\n",
       "      <td>22</td>\n",
       "      <td>8.000000</td>\n",
       "      <td>-1.650162</td>\n",
       "      <td>-1.348408</td>\n",
       "      <td>1.709325</td>\n",
       "      <td>1</td>\n",
       "      <td>4.455720</td>\n",
       "      <td>-0.069353</td>\n",
       "      <td>-0.137667</td>\n",
       "    </tr>\n",
       "    <tr>\n",
       "      <th>43823</th>\n",
       "      <td>2014</td>\n",
       "      <td>12</td>\n",
       "      <td>31</td>\n",
       "      <td>23</td>\n",
       "      <td>12.000000</td>\n",
       "      <td>-1.580878</td>\n",
       "      <td>-1.266431</td>\n",
       "      <td>1.709325</td>\n",
       "      <td>1</td>\n",
       "      <td>4.518308</td>\n",
       "      <td>-0.069353</td>\n",
       "      <td>-0.137667</td>\n",
       "    </tr>\n",
       "  </tbody>\n",
       "</table>\n",
       "<p>43824 rows × 12 columns</p>\n",
       "</div>"
      ],
      "text/plain": [
       "       year  month  day  hour      pm2.5      DEWP      TEMP      PRES  cbwd  \\\n",
       "0      2010      1    1     0  98.613215 -1.580878 -1.922250  0.443328     1   \n",
       "1      2010      1    1     1  98.613215 -1.580878 -2.004228  0.345943     1   \n",
       "2      2010      1    1     2  98.613215 -1.580878 -1.922250  0.248559     1   \n",
       "3      2010      1    1     3  98.613215 -1.580878 -2.168183  0.248559     1   \n",
       "4      2010      1    1     4  98.613215 -1.511594 -2.004228  0.151174     1   \n",
       "...     ...    ...  ...   ...        ...       ...       ...       ...   ...   \n",
       "43819  2014     12   31    19   8.000000 -1.719447 -1.184453  1.709325     1   \n",
       "43820  2014     12   31    20  10.000000 -1.650162 -1.266431  1.709325     1   \n",
       "43821  2014     12   31    21  10.000000 -1.650162 -1.266431  1.709325     1   \n",
       "43822  2014     12   31    22   8.000000 -1.650162 -1.348408  1.709325     1   \n",
       "43823  2014     12   31    23  12.000000 -1.580878 -1.266431  1.709325     1   \n",
       "\n",
       "            Iws        Is        Ir  \n",
       "0     -0.441894 -0.069353 -0.137667  \n",
       "1     -0.379306 -0.069353 -0.137667  \n",
       "2     -0.343514 -0.069353 -0.137667  \n",
       "3     -0.280926 -0.069353 -0.137667  \n",
       "4     -0.218339 -0.069353 -0.137667  \n",
       "...         ...       ...       ...  \n",
       "43819  4.160780 -0.069353 -0.137667  \n",
       "43820  4.276956 -0.069353 -0.137667  \n",
       "43821  4.375337 -0.069353 -0.137667  \n",
       "43822  4.455720 -0.069353 -0.137667  \n",
       "43823  4.518308 -0.069353 -0.137667  \n",
       "\n",
       "[43824 rows x 12 columns]"
      ]
     },
     "execution_count": 9,
     "metadata": {},
     "output_type": "execute_result"
    }
   ],
   "source": [
    " from sklearn import preprocessing \n",
    "col_names=['DEWP','TEMP','PRES','Iws','Is','Ir']\n",
    "from sklearn.preprocessing import StandardScaler\n",
    "standardScaler=StandardScaler()\n",
    "data[col_names]=standardScaler.fit_transform(data[col_names].values)\n",
    "data"
   ]
  },
  {
   "cell_type": "code",
   "execution_count": 10,
   "id": "f540a757",
   "metadata": {},
   "outputs": [
    {
     "name": "stdout",
     "output_type": "stream",
     "text": [
      "<class 'pandas.core.frame.DataFrame'>\n",
      "RangeIndex: 43824 entries, 0 to 43823\n",
      "Data columns (total 12 columns):\n",
      " #   Column  Non-Null Count  Dtype  \n",
      "---  ------  --------------  -----  \n",
      " 0   year    43824 non-null  int64  \n",
      " 1   month   43824 non-null  int64  \n",
      " 2   day     43824 non-null  int64  \n",
      " 3   hour    43824 non-null  int64  \n",
      " 4   pm2.5   43824 non-null  float64\n",
      " 5   DEWP    43824 non-null  float64\n",
      " 6   TEMP    43824 non-null  float64\n",
      " 7   PRES    43824 non-null  float64\n",
      " 8   cbwd    43824 non-null  int32  \n",
      " 9   Iws     43824 non-null  float64\n",
      " 10  Is      43824 non-null  float64\n",
      " 11  Ir      43824 non-null  float64\n",
      "dtypes: float64(7), int32(1), int64(4)\n",
      "memory usage: 3.8 MB\n"
     ]
    }
   ],
   "source": [
    "data.info()"
   ]
  },
  {
   "cell_type": "code",
   "execution_count": 11,
   "id": "3a26f8a3",
   "metadata": {},
   "outputs": [],
   "source": [
    "#Creating a labeled data\n",
    "g = []\n"
   ]
  },
  {
   "cell_type": "code",
   "execution_count": 12,
   "id": "0361bbe1",
   "metadata": {},
   "outputs": [],
   "source": [
    "for i in range(41757):\n",
    "    g.append(data.index.values[i])"
   ]
  },
  {
   "cell_type": "code",
   "execution_count": 13,
   "id": "547f3146",
   "metadata": {},
   "outputs": [],
   "source": [
    "data[\"Result\"] = 0"
   ]
  },
  {
   "cell_type": "code",
   "execution_count": 14,
   "id": "311e13be",
   "metadata": {},
   "outputs": [
    {
     "data": {
      "text/html": [
       "<div>\n",
       "<style scoped>\n",
       "    .dataframe tbody tr th:only-of-type {\n",
       "        vertical-align: middle;\n",
       "    }\n",
       "\n",
       "    .dataframe tbody tr th {\n",
       "        vertical-align: top;\n",
       "    }\n",
       "\n",
       "    .dataframe thead th {\n",
       "        text-align: right;\n",
       "    }\n",
       "</style>\n",
       "<table border=\"1\" class=\"dataframe\">\n",
       "  <thead>\n",
       "    <tr style=\"text-align: right;\">\n",
       "      <th></th>\n",
       "      <th>year</th>\n",
       "      <th>month</th>\n",
       "      <th>day</th>\n",
       "      <th>hour</th>\n",
       "      <th>pm2.5</th>\n",
       "      <th>DEWP</th>\n",
       "      <th>TEMP</th>\n",
       "      <th>PRES</th>\n",
       "      <th>cbwd</th>\n",
       "      <th>Iws</th>\n",
       "      <th>Is</th>\n",
       "      <th>Ir</th>\n",
       "      <th>Result</th>\n",
       "    </tr>\n",
       "  </thead>\n",
       "  <tbody>\n",
       "    <tr>\n",
       "      <th>0</th>\n",
       "      <td>2010</td>\n",
       "      <td>1</td>\n",
       "      <td>1</td>\n",
       "      <td>0</td>\n",
       "      <td>98.613215</td>\n",
       "      <td>-1.580878</td>\n",
       "      <td>-1.922250</td>\n",
       "      <td>0.443328</td>\n",
       "      <td>1</td>\n",
       "      <td>-0.441894</td>\n",
       "      <td>-0.069353</td>\n",
       "      <td>-0.137667</td>\n",
       "      <td>0</td>\n",
       "    </tr>\n",
       "    <tr>\n",
       "      <th>1</th>\n",
       "      <td>2010</td>\n",
       "      <td>1</td>\n",
       "      <td>1</td>\n",
       "      <td>1</td>\n",
       "      <td>98.613215</td>\n",
       "      <td>-1.580878</td>\n",
       "      <td>-2.004228</td>\n",
       "      <td>0.345943</td>\n",
       "      <td>1</td>\n",
       "      <td>-0.379306</td>\n",
       "      <td>-0.069353</td>\n",
       "      <td>-0.137667</td>\n",
       "      <td>0</td>\n",
       "    </tr>\n",
       "    <tr>\n",
       "      <th>2</th>\n",
       "      <td>2010</td>\n",
       "      <td>1</td>\n",
       "      <td>1</td>\n",
       "      <td>2</td>\n",
       "      <td>98.613215</td>\n",
       "      <td>-1.580878</td>\n",
       "      <td>-1.922250</td>\n",
       "      <td>0.248559</td>\n",
       "      <td>1</td>\n",
       "      <td>-0.343514</td>\n",
       "      <td>-0.069353</td>\n",
       "      <td>-0.137667</td>\n",
       "      <td>0</td>\n",
       "    </tr>\n",
       "    <tr>\n",
       "      <th>3</th>\n",
       "      <td>2010</td>\n",
       "      <td>1</td>\n",
       "      <td>1</td>\n",
       "      <td>3</td>\n",
       "      <td>98.613215</td>\n",
       "      <td>-1.580878</td>\n",
       "      <td>-2.168183</td>\n",
       "      <td>0.248559</td>\n",
       "      <td>1</td>\n",
       "      <td>-0.280926</td>\n",
       "      <td>-0.069353</td>\n",
       "      <td>-0.137667</td>\n",
       "      <td>0</td>\n",
       "    </tr>\n",
       "    <tr>\n",
       "      <th>4</th>\n",
       "      <td>2010</td>\n",
       "      <td>1</td>\n",
       "      <td>1</td>\n",
       "      <td>4</td>\n",
       "      <td>98.613215</td>\n",
       "      <td>-1.511594</td>\n",
       "      <td>-2.004228</td>\n",
       "      <td>0.151174</td>\n",
       "      <td>1</td>\n",
       "      <td>-0.218339</td>\n",
       "      <td>-0.069353</td>\n",
       "      <td>-0.137667</td>\n",
       "      <td>0</td>\n",
       "    </tr>\n",
       "  </tbody>\n",
       "</table>\n",
       "</div>"
      ],
      "text/plain": [
       "   year  month  day  hour      pm2.5      DEWP      TEMP      PRES  cbwd  \\\n",
       "0  2010      1    1     0  98.613215 -1.580878 -1.922250  0.443328     1   \n",
       "1  2010      1    1     1  98.613215 -1.580878 -2.004228  0.345943     1   \n",
       "2  2010      1    1     2  98.613215 -1.580878 -1.922250  0.248559     1   \n",
       "3  2010      1    1     3  98.613215 -1.580878 -2.168183  0.248559     1   \n",
       "4  2010      1    1     4  98.613215 -1.511594 -2.004228  0.151174     1   \n",
       "\n",
       "        Iws        Is        Ir  Result  \n",
       "0 -0.441894 -0.069353 -0.137667       0  \n",
       "1 -0.379306 -0.069353 -0.137667       0  \n",
       "2 -0.343514 -0.069353 -0.137667       0  \n",
       "3 -0.280926 -0.069353 -0.137667       0  \n",
       "4 -0.218339 -0.069353 -0.137667       0  "
      ]
     },
     "execution_count": 14,
     "metadata": {},
     "output_type": "execute_result"
    }
   ],
   "source": [
    "data.head()"
   ]
  },
  {
   "cell_type": "code",
   "execution_count": 15,
   "id": "a9365a04",
   "metadata": {},
   "outputs": [
    {
     "name": "stderr",
     "output_type": "stream",
     "text": [
      "C:\\Users\\hp\\AppData\\Local\\Temp\\ipykernel_24088\\3373712671.py:3: SettingWithCopyWarning: \n",
      "A value is trying to be set on a copy of a slice from a DataFrame\n",
      "\n",
      "See the caveats in the documentation: https://pandas.pydata.org/pandas-docs/stable/user_guide/indexing.html#returning-a-view-versus-a-copy\n",
      "  data[\"Result\"][g[i]] = 1\n"
     ]
    }
   ],
   "source": [
    "for i in range(41757):\n",
    "    if data[\"pm2.5\"][g[i]] > 115:\n",
    "        data[\"Result\"][g[i]] = 1    "
   ]
  },
  {
   "cell_type": "code",
   "execution_count": 16,
   "id": "e4ed7cc0",
   "metadata": {},
   "outputs": [
    {
     "data": {
      "text/html": [
       "<div>\n",
       "<style scoped>\n",
       "    .dataframe tbody tr th:only-of-type {\n",
       "        vertical-align: middle;\n",
       "    }\n",
       "\n",
       "    .dataframe tbody tr th {\n",
       "        vertical-align: top;\n",
       "    }\n",
       "\n",
       "    .dataframe thead th {\n",
       "        text-align: right;\n",
       "    }\n",
       "</style>\n",
       "<table border=\"1\" class=\"dataframe\">\n",
       "  <thead>\n",
       "    <tr style=\"text-align: right;\">\n",
       "      <th></th>\n",
       "      <th>year</th>\n",
       "      <th>month</th>\n",
       "      <th>day</th>\n",
       "      <th>hour</th>\n",
       "      <th>pm2.5</th>\n",
       "      <th>DEWP</th>\n",
       "      <th>TEMP</th>\n",
       "      <th>PRES</th>\n",
       "      <th>cbwd</th>\n",
       "      <th>Iws</th>\n",
       "      <th>Is</th>\n",
       "      <th>Ir</th>\n",
       "      <th>Result</th>\n",
       "    </tr>\n",
       "  </thead>\n",
       "  <tbody>\n",
       "    <tr>\n",
       "      <th>0</th>\n",
       "      <td>2010</td>\n",
       "      <td>1</td>\n",
       "      <td>1</td>\n",
       "      <td>0</td>\n",
       "      <td>98.613215</td>\n",
       "      <td>-1.580878</td>\n",
       "      <td>-1.922250</td>\n",
       "      <td>0.443328</td>\n",
       "      <td>1</td>\n",
       "      <td>-0.441894</td>\n",
       "      <td>-0.069353</td>\n",
       "      <td>-0.137667</td>\n",
       "      <td>0</td>\n",
       "    </tr>\n",
       "    <tr>\n",
       "      <th>1</th>\n",
       "      <td>2010</td>\n",
       "      <td>1</td>\n",
       "      <td>1</td>\n",
       "      <td>1</td>\n",
       "      <td>98.613215</td>\n",
       "      <td>-1.580878</td>\n",
       "      <td>-2.004228</td>\n",
       "      <td>0.345943</td>\n",
       "      <td>1</td>\n",
       "      <td>-0.379306</td>\n",
       "      <td>-0.069353</td>\n",
       "      <td>-0.137667</td>\n",
       "      <td>0</td>\n",
       "    </tr>\n",
       "    <tr>\n",
       "      <th>2</th>\n",
       "      <td>2010</td>\n",
       "      <td>1</td>\n",
       "      <td>1</td>\n",
       "      <td>2</td>\n",
       "      <td>98.613215</td>\n",
       "      <td>-1.580878</td>\n",
       "      <td>-1.922250</td>\n",
       "      <td>0.248559</td>\n",
       "      <td>1</td>\n",
       "      <td>-0.343514</td>\n",
       "      <td>-0.069353</td>\n",
       "      <td>-0.137667</td>\n",
       "      <td>0</td>\n",
       "    </tr>\n",
       "    <tr>\n",
       "      <th>3</th>\n",
       "      <td>2010</td>\n",
       "      <td>1</td>\n",
       "      <td>1</td>\n",
       "      <td>3</td>\n",
       "      <td>98.613215</td>\n",
       "      <td>-1.580878</td>\n",
       "      <td>-2.168183</td>\n",
       "      <td>0.248559</td>\n",
       "      <td>1</td>\n",
       "      <td>-0.280926</td>\n",
       "      <td>-0.069353</td>\n",
       "      <td>-0.137667</td>\n",
       "      <td>0</td>\n",
       "    </tr>\n",
       "    <tr>\n",
       "      <th>4</th>\n",
       "      <td>2010</td>\n",
       "      <td>1</td>\n",
       "      <td>1</td>\n",
       "      <td>4</td>\n",
       "      <td>98.613215</td>\n",
       "      <td>-1.511594</td>\n",
       "      <td>-2.004228</td>\n",
       "      <td>0.151174</td>\n",
       "      <td>1</td>\n",
       "      <td>-0.218339</td>\n",
       "      <td>-0.069353</td>\n",
       "      <td>-0.137667</td>\n",
       "      <td>0</td>\n",
       "    </tr>\n",
       "  </tbody>\n",
       "</table>\n",
       "</div>"
      ],
      "text/plain": [
       "   year  month  day  hour      pm2.5      DEWP      TEMP      PRES  cbwd  \\\n",
       "0  2010      1    1     0  98.613215 -1.580878 -1.922250  0.443328     1   \n",
       "1  2010      1    1     1  98.613215 -1.580878 -2.004228  0.345943     1   \n",
       "2  2010      1    1     2  98.613215 -1.580878 -1.922250  0.248559     1   \n",
       "3  2010      1    1     3  98.613215 -1.580878 -2.168183  0.248559     1   \n",
       "4  2010      1    1     4  98.613215 -1.511594 -2.004228  0.151174     1   \n",
       "\n",
       "        Iws        Is        Ir  Result  \n",
       "0 -0.441894 -0.069353 -0.137667       0  \n",
       "1 -0.379306 -0.069353 -0.137667       0  \n",
       "2 -0.343514 -0.069353 -0.137667       0  \n",
       "3 -0.280926 -0.069353 -0.137667       0  \n",
       "4 -0.218339 -0.069353 -0.137667       0  "
      ]
     },
     "execution_count": 16,
     "metadata": {},
     "output_type": "execute_result"
    }
   ],
   "source": [
    "data.head()"
   ]
  },
  {
   "cell_type": "code",
   "execution_count": 17,
   "id": "7af3381c",
   "metadata": {},
   "outputs": [
    {
     "data": {
      "text/html": [
       "<div>\n",
       "<style scoped>\n",
       "    .dataframe tbody tr th:only-of-type {\n",
       "        vertical-align: middle;\n",
       "    }\n",
       "\n",
       "    .dataframe tbody tr th {\n",
       "        vertical-align: top;\n",
       "    }\n",
       "\n",
       "    .dataframe thead th {\n",
       "        text-align: right;\n",
       "    }\n",
       "</style>\n",
       "<table border=\"1\" class=\"dataframe\">\n",
       "  <thead>\n",
       "    <tr style=\"text-align: right;\">\n",
       "      <th></th>\n",
       "      <th>month</th>\n",
       "      <th>day</th>\n",
       "      <th>hour</th>\n",
       "      <th>DEWP</th>\n",
       "      <th>TEMP</th>\n",
       "      <th>cbwd</th>\n",
       "      <th>Iws</th>\n",
       "      <th>Is</th>\n",
       "      <th>Ir</th>\n",
       "    </tr>\n",
       "  </thead>\n",
       "  <tbody>\n",
       "    <tr>\n",
       "      <th>0</th>\n",
       "      <td>1</td>\n",
       "      <td>1</td>\n",
       "      <td>0</td>\n",
       "      <td>-1.580878</td>\n",
       "      <td>-1.922250</td>\n",
       "      <td>1</td>\n",
       "      <td>-0.441894</td>\n",
       "      <td>-0.069353</td>\n",
       "      <td>-0.137667</td>\n",
       "    </tr>\n",
       "    <tr>\n",
       "      <th>1</th>\n",
       "      <td>1</td>\n",
       "      <td>1</td>\n",
       "      <td>1</td>\n",
       "      <td>-1.580878</td>\n",
       "      <td>-2.004228</td>\n",
       "      <td>1</td>\n",
       "      <td>-0.379306</td>\n",
       "      <td>-0.069353</td>\n",
       "      <td>-0.137667</td>\n",
       "    </tr>\n",
       "    <tr>\n",
       "      <th>2</th>\n",
       "      <td>1</td>\n",
       "      <td>1</td>\n",
       "      <td>2</td>\n",
       "      <td>-1.580878</td>\n",
       "      <td>-1.922250</td>\n",
       "      <td>1</td>\n",
       "      <td>-0.343514</td>\n",
       "      <td>-0.069353</td>\n",
       "      <td>-0.137667</td>\n",
       "    </tr>\n",
       "    <tr>\n",
       "      <th>3</th>\n",
       "      <td>1</td>\n",
       "      <td>1</td>\n",
       "      <td>3</td>\n",
       "      <td>-1.580878</td>\n",
       "      <td>-2.168183</td>\n",
       "      <td>1</td>\n",
       "      <td>-0.280926</td>\n",
       "      <td>-0.069353</td>\n",
       "      <td>-0.137667</td>\n",
       "    </tr>\n",
       "    <tr>\n",
       "      <th>4</th>\n",
       "      <td>1</td>\n",
       "      <td>1</td>\n",
       "      <td>4</td>\n",
       "      <td>-1.511594</td>\n",
       "      <td>-2.004228</td>\n",
       "      <td>1</td>\n",
       "      <td>-0.218339</td>\n",
       "      <td>-0.069353</td>\n",
       "      <td>-0.137667</td>\n",
       "    </tr>\n",
       "    <tr>\n",
       "      <th>...</th>\n",
       "      <td>...</td>\n",
       "      <td>...</td>\n",
       "      <td>...</td>\n",
       "      <td>...</td>\n",
       "      <td>...</td>\n",
       "      <td>...</td>\n",
       "      <td>...</td>\n",
       "      <td>...</td>\n",
       "      <td>...</td>\n",
       "    </tr>\n",
       "    <tr>\n",
       "      <th>43819</th>\n",
       "      <td>12</td>\n",
       "      <td>31</td>\n",
       "      <td>19</td>\n",
       "      <td>-1.719447</td>\n",
       "      <td>-1.184453</td>\n",
       "      <td>1</td>\n",
       "      <td>4.160780</td>\n",
       "      <td>-0.069353</td>\n",
       "      <td>-0.137667</td>\n",
       "    </tr>\n",
       "    <tr>\n",
       "      <th>43820</th>\n",
       "      <td>12</td>\n",
       "      <td>31</td>\n",
       "      <td>20</td>\n",
       "      <td>-1.650162</td>\n",
       "      <td>-1.266431</td>\n",
       "      <td>1</td>\n",
       "      <td>4.276956</td>\n",
       "      <td>-0.069353</td>\n",
       "      <td>-0.137667</td>\n",
       "    </tr>\n",
       "    <tr>\n",
       "      <th>43821</th>\n",
       "      <td>12</td>\n",
       "      <td>31</td>\n",
       "      <td>21</td>\n",
       "      <td>-1.650162</td>\n",
       "      <td>-1.266431</td>\n",
       "      <td>1</td>\n",
       "      <td>4.375337</td>\n",
       "      <td>-0.069353</td>\n",
       "      <td>-0.137667</td>\n",
       "    </tr>\n",
       "    <tr>\n",
       "      <th>43822</th>\n",
       "      <td>12</td>\n",
       "      <td>31</td>\n",
       "      <td>22</td>\n",
       "      <td>-1.650162</td>\n",
       "      <td>-1.348408</td>\n",
       "      <td>1</td>\n",
       "      <td>4.455720</td>\n",
       "      <td>-0.069353</td>\n",
       "      <td>-0.137667</td>\n",
       "    </tr>\n",
       "    <tr>\n",
       "      <th>43823</th>\n",
       "      <td>12</td>\n",
       "      <td>31</td>\n",
       "      <td>23</td>\n",
       "      <td>-1.580878</td>\n",
       "      <td>-1.266431</td>\n",
       "      <td>1</td>\n",
       "      <td>4.518308</td>\n",
       "      <td>-0.069353</td>\n",
       "      <td>-0.137667</td>\n",
       "    </tr>\n",
       "  </tbody>\n",
       "</table>\n",
       "<p>43824 rows × 9 columns</p>\n",
       "</div>"
      ],
      "text/plain": [
       "       month  day  hour      DEWP      TEMP  cbwd       Iws        Is  \\\n",
       "0          1    1     0 -1.580878 -1.922250     1 -0.441894 -0.069353   \n",
       "1          1    1     1 -1.580878 -2.004228     1 -0.379306 -0.069353   \n",
       "2          1    1     2 -1.580878 -1.922250     1 -0.343514 -0.069353   \n",
       "3          1    1     3 -1.580878 -2.168183     1 -0.280926 -0.069353   \n",
       "4          1    1     4 -1.511594 -2.004228     1 -0.218339 -0.069353   \n",
       "...      ...  ...   ...       ...       ...   ...       ...       ...   \n",
       "43819     12   31    19 -1.719447 -1.184453     1  4.160780 -0.069353   \n",
       "43820     12   31    20 -1.650162 -1.266431     1  4.276956 -0.069353   \n",
       "43821     12   31    21 -1.650162 -1.266431     1  4.375337 -0.069353   \n",
       "43822     12   31    22 -1.650162 -1.348408     1  4.455720 -0.069353   \n",
       "43823     12   31    23 -1.580878 -1.266431     1  4.518308 -0.069353   \n",
       "\n",
       "             Ir  \n",
       "0     -0.137667  \n",
       "1     -0.137667  \n",
       "2     -0.137667  \n",
       "3     -0.137667  \n",
       "4     -0.137667  \n",
       "...         ...  \n",
       "43819 -0.137667  \n",
       "43820 -0.137667  \n",
       "43821 -0.137667  \n",
       "43822 -0.137667  \n",
       "43823 -0.137667  \n",
       "\n",
       "[43824 rows x 9 columns]"
      ]
     },
     "execution_count": 17,
     "metadata": {},
     "output_type": "execute_result"
    }
   ],
   "source": [
    "y = data['Result']\n",
    "X = data.iloc[:,[1,2,3,5,6,8,9,10,11]]\n",
    "X"
   ]
  },
  {
   "cell_type": "code",
   "execution_count": 18,
   "id": "2781e200",
   "metadata": {},
   "outputs": [],
   "source": [
    "from sklearn.model_selection import train_test_split\n",
    "X_train, X_test, y_train, y_test = train_test_split(X, y, test_size = 0.20, random_state = 100)"
   ]
  },
  {
   "cell_type": "code",
   "execution_count": 19,
   "id": "3c58a943",
   "metadata": {},
   "outputs": [
    {
     "name": "stdout",
     "output_type": "stream",
     "text": [
      "X_train.shape: (35059, 9)\n",
      "y_train.shape: (35059,)\n",
      "X_test.shape: (8765, 9)\n",
      "y_test.shape (8765,)\n"
     ]
    }
   ],
   "source": [
    "print(\"X_train.shape:\",X_train.shape)\n",
    "print(\"y_train.shape:\",y_train.shape)\n",
    "print(\"X_test.shape:\",X_test.shape)\n",
    "print(\"y_test.shape\",y_test.shape)\n",
    "\n"
   ]
  },
  {
   "cell_type": "code",
   "execution_count": 20,
   "id": "c92091e8",
   "metadata": {},
   "outputs": [],
   "source": [
    "#Logistic \n",
    "from sklearn.linear_model import LogisticRegression\n",
    "model = LogisticRegression(verbose=10, max_iter=100)"
   ]
  },
  {
   "cell_type": "code",
   "execution_count": 21,
   "id": "d08dfe75",
   "metadata": {},
   "outputs": [
    {
     "name": "stderr",
     "output_type": "stream",
     "text": [
      "[Parallel(n_jobs=1)]: Using backend SequentialBackend with 1 concurrent workers.\n",
      "[Parallel(n_jobs=1)]: Done   1 out of   1 | elapsed:    0.3s remaining:    0.0s\n",
      "[Parallel(n_jobs=1)]: Done   1 out of   1 | elapsed:    0.3s finished\n"
     ]
    },
    {
     "data": {
      "text/plain": [
       "LogisticRegression(verbose=10)"
      ]
     },
     "execution_count": 21,
     "metadata": {},
     "output_type": "execute_result"
    }
   ],
   "source": [
    "model.fit(X_train, y_train)"
   ]
  },
  {
   "cell_type": "code",
   "execution_count": 22,
   "id": "8a7cc239",
   "metadata": {},
   "outputs": [
    {
     "name": "stdout",
     "output_type": "stream",
     "text": [
      "Logistic Regression 0.7403308613804905\n"
     ]
    }
   ],
   "source": [
    "print(\"Logistic Regression\" , model.score(X_test, y_test))"
   ]
  },
  {
   "cell_type": "code",
   "execution_count": 23,
   "id": "ae146db1",
   "metadata": {},
   "outputs": [],
   "source": [
    "results.append(model.score(X_test, y_test))\n",
    "names.append('LR')"
   ]
  },
  {
   "cell_type": "code",
   "execution_count": 24,
   "id": "cc4c0498",
   "metadata": {},
   "outputs": [],
   "source": [
    "#KNN\n",
    "from sklearn.neighbors import KNeighborsClassifier"
   ]
  },
  {
   "cell_type": "code",
   "execution_count": 25,
   "id": "d1ac8d1d",
   "metadata": {},
   "outputs": [
    {
     "data": {
      "text/plain": [
       "KNeighborsClassifier(n_neighbors=1000)"
      ]
     },
     "execution_count": 25,
     "metadata": {},
     "output_type": "execute_result"
    }
   ],
   "source": [
    "knn = KNeighborsClassifier(n_neighbors=1000)\n",
    "knn.fit(X_train, y_train)"
   ]
  },
  {
   "cell_type": "code",
   "execution_count": 26,
   "id": "bfd41ff1",
   "metadata": {},
   "outputs": [
    {
     "name": "stderr",
     "output_type": "stream",
     "text": [
      "C:\\Users\\hp\\anaconda3\\lib\\site-packages\\sklearn\\neighbors\\_classification.py:228: FutureWarning: Unlike other reduction functions (e.g. `skew`, `kurtosis`), the default behavior of `mode` typically preserves the axis it acts along. In SciPy 1.11.0, this behavior will change: the default value of `keepdims` will become False, the `axis` over which the statistic is taken will be eliminated, and the value None will no longer be accepted. Set `keepdims` to True or False to avoid this warning.\n",
      "  mode, _ = stats.mode(_y[neigh_ind, k], axis=1)\n"
     ]
    },
    {
     "name": "stdout",
     "output_type": "stream",
     "text": [
      "KNN 0.7122646891043924\n"
     ]
    }
   ],
   "source": [
    "print(\"KNN\", knn.score(X_test, y_test))"
   ]
  },
  {
   "cell_type": "code",
   "execution_count": 27,
   "id": "b0935254",
   "metadata": {},
   "outputs": [
    {
     "name": "stderr",
     "output_type": "stream",
     "text": [
      "C:\\Users\\hp\\anaconda3\\lib\\site-packages\\sklearn\\neighbors\\_classification.py:228: FutureWarning: Unlike other reduction functions (e.g. `skew`, `kurtosis`), the default behavior of `mode` typically preserves the axis it acts along. In SciPy 1.11.0, this behavior will change: the default value of `keepdims` will become False, the `axis` over which the statistic is taken will be eliminated, and the value None will no longer be accepted. Set `keepdims` to True or False to avoid this warning.\n",
      "  mode, _ = stats.mode(_y[neigh_ind, k], axis=1)\n"
     ]
    }
   ],
   "source": [
    "results.append(knn.score(X_test, y_test))\n",
    "names.append('KNN')"
   ]
  },
  {
   "cell_type": "code",
   "execution_count": 28,
   "id": "a21d3ded",
   "metadata": {},
   "outputs": [
    {
     "data": {
      "text/plain": [
       "GaussianNB()"
      ]
     },
     "execution_count": 28,
     "metadata": {},
     "output_type": "execute_result"
    }
   ],
   "source": [
    "#GNB\n",
    "from sklearn.naive_bayes import GaussianNB\n",
    "gnb = GaussianNB()\n",
    "gnb.fit(X_train, y_train)"
   ]
  },
  {
   "cell_type": "code",
   "execution_count": 29,
   "id": "50cb0e11",
   "metadata": {},
   "outputs": [
    {
     "data": {
      "text/plain": [
       "array([1, 1, 1, ..., 1, 0, 1], dtype=int64)"
      ]
     },
     "execution_count": 29,
     "metadata": {},
     "output_type": "execute_result"
    }
   ],
   "source": [
    "y_pred = gnb.predict(X_test)\n",
    "y_pred"
   ]
  },
  {
   "cell_type": "code",
   "execution_count": 30,
   "id": "a81244c1",
   "metadata": {},
   "outputs": [
    {
     "name": "stdout",
     "output_type": "stream",
     "text": [
      "GNB 0.47278950370792927\n"
     ]
    }
   ],
   "source": [
    "from sklearn.metrics import accuracy_score\n",
    "print(\"GNB\" , accuracy_score(y_test, y_pred))"
   ]
  },
  {
   "cell_type": "code",
   "execution_count": 31,
   "id": "f31b58d0",
   "metadata": {},
   "outputs": [],
   "source": [
    "results.append(accuracy_score(y_test, y_pred))\n",
    "names.append('GNB')"
   ]
  },
  {
   "cell_type": "code",
   "execution_count": 32,
   "id": "f11ee15f",
   "metadata": {},
   "outputs": [
    {
     "data": {
      "text/plain": [
       "DecisionTreeClassifier(max_depth=3, min_samples_leaf=5, random_state=100)"
      ]
     },
     "execution_count": 32,
     "metadata": {},
     "output_type": "execute_result"
    }
   ],
   "source": [
    "#Decision tree\n",
    "from sklearn.tree import DecisionTreeClassifier\n",
    "DT = DecisionTreeClassifier(criterion = \"gini\", random_state = 100,max_depth=3, min_samples_leaf=5)\n",
    "DT.fit(X_train, y_train)"
   ]
  },
  {
   "cell_type": "code",
   "execution_count": 33,
   "id": "a0107b2b",
   "metadata": {},
   "outputs": [
    {
     "name": "stdout",
     "output_type": "stream",
     "text": [
      "Decision Tree 0.7388476896748432\n"
     ]
    }
   ],
   "source": [
    "y_pred = DT.predict(X_test)\n",
    "print (\"Decision Tree\" , accuracy_score(y_test,y_pred))"
   ]
  },
  {
   "cell_type": "code",
   "execution_count": 34,
   "id": "9955812e",
   "metadata": {},
   "outputs": [],
   "source": [
    "results.append(accuracy_score(y_test, y_pred))\n",
    "names.append('DT')"
   ]
  },
  {
   "cell_type": "code",
   "execution_count": 35,
   "id": "2cbd9b3b",
   "metadata": {},
   "outputs": [
    {
     "name": "stdout",
     "output_type": "stream",
     "text": [
      "Requirement already satisfied: keras in c:\\users\\hp\\anaconda3\\lib\\site-packages (2.11.0)\n",
      "Note: you may need to restart the kernel to use updated packages.\n"
     ]
    },
    {
     "name": "stderr",
     "output_type": "stream",
     "text": [
      "WARNING: Ignoring invalid distribution -atplotlib (c:\\users\\hp\\anaconda3\\lib\\site-packages)\n",
      "WARNING: Ignoring invalid distribution -atplotlib (c:\\users\\hp\\anaconda3\\lib\\site-packages)\n",
      "WARNING: Ignoring invalid distribution -atplotlib (c:\\users\\hp\\anaconda3\\lib\\site-packages)\n",
      "WARNING: Ignoring invalid distribution -atplotlib (c:\\users\\hp\\anaconda3\\lib\\site-packages)\n",
      "WARNING: Ignoring invalid distribution -atplotlib (c:\\users\\hp\\anaconda3\\lib\\site-packages)\n",
      "WARNING: Ignoring invalid distribution -atplotlib (c:\\users\\hp\\anaconda3\\lib\\site-packages)\n"
     ]
    }
   ],
   "source": [
    "pip install keras\n"
   ]
  },
  {
   "cell_type": "code",
   "execution_count": 36,
   "id": "a3d5891a",
   "metadata": {},
   "outputs": [
    {
     "name": "stdout",
     "output_type": "stream",
     "text": [
      "Requirement already satisfied: tensorflow in c:\\users\\hp\\anaconda3\\lib\\site-packages (2.11.0)\n",
      "Requirement already satisfied: tensorflow-intel==2.11.0 in c:\\users\\hp\\anaconda3\\lib\\site-packages (from tensorflow) (2.11.0)\n",
      "Requirement already satisfied: tensorflow-io-gcs-filesystem>=0.23.1 in c:\\users\\hp\\anaconda3\\lib\\site-packages (from tensorflow-intel==2.11.0->tensorflow) (0.31.0)\n",
      "Requirement already satisfied: packaging in c:\\users\\hp\\anaconda3\\lib\\site-packages (from tensorflow-intel==2.11.0->tensorflow) (21.3)\n",
      "Requirement already satisfied: opt-einsum>=2.3.2 in c:\\users\\hp\\anaconda3\\lib\\site-packages (from tensorflow-intel==2.11.0->tensorflow) (3.3.0)\n",
      "Requirement already satisfied: google-pasta>=0.1.1 in c:\\users\\hp\\anaconda3\\lib\\site-packages (from tensorflow-intel==2.11.0->tensorflow) (0.2.0)\n",
      "Requirement already satisfied: gast<=0.4.0,>=0.2.1 in c:\\users\\hp\\anaconda3\\lib\\site-packages (from tensorflow-intel==2.11.0->tensorflow) (0.4.0)\n",
      "Requirement already satisfied: termcolor>=1.1.0 in c:\\users\\hp\\anaconda3\\lib\\site-packages (from tensorflow-intel==2.11.0->tensorflow) (2.2.0)\n",
      "Requirement already satisfied: setuptools in c:\\users\\hp\\anaconda3\\lib\\site-packages (from tensorflow-intel==2.11.0->tensorflow) (63.4.1)\n",
      "Requirement already satisfied: flatbuffers>=2.0 in c:\\users\\hp\\anaconda3\\lib\\site-packages (from tensorflow-intel==2.11.0->tensorflow) (23.3.3)\n",
      "Requirement already satisfied: grpcio<2.0,>=1.24.3 in c:\\users\\hp\\anaconda3\\lib\\site-packages (from tensorflow-intel==2.11.0->tensorflow) (1.51.3)\n",
      "Requirement already satisfied: h5py>=2.9.0 in c:\\users\\hp\\anaconda3\\lib\\site-packages (from tensorflow-intel==2.11.0->tensorflow) (3.7.0)\n",
      "Requirement already satisfied: protobuf<3.20,>=3.9.2 in c:\\users\\hp\\anaconda3\\lib\\site-packages (from tensorflow-intel==2.11.0->tensorflow) (3.19.6)\n",
      "Requirement already satisfied: typing-extensions>=3.6.6 in c:\\users\\hp\\anaconda3\\lib\\site-packages (from tensorflow-intel==2.11.0->tensorflow) (4.3.0)\n",
      "Requirement already satisfied: tensorboard<2.12,>=2.11 in c:\\users\\hp\\anaconda3\\lib\\site-packages (from tensorflow-intel==2.11.0->tensorflow) (2.11.2)\n",
      "Requirement already satisfied: astunparse>=1.6.0 in c:\\users\\hp\\anaconda3\\lib\\site-packages (from tensorflow-intel==2.11.0->tensorflow) (1.6.3)\n",
      "Requirement already satisfied: numpy>=1.20 in c:\\users\\hp\\anaconda3\\lib\\site-packages (from tensorflow-intel==2.11.0->tensorflow) (1.21.5)\n",
      "Requirement already satisfied: absl-py>=1.0.0 in c:\\users\\hp\\anaconda3\\lib\\site-packages (from tensorflow-intel==2.11.0->tensorflow) (1.4.0)\n",
      "Requirement already satisfied: keras<2.12,>=2.11.0 in c:\\users\\hp\\anaconda3\\lib\\site-packages (from tensorflow-intel==2.11.0->tensorflow) (2.11.0)\n",
      "Requirement already satisfied: libclang>=13.0.0 in c:\\users\\hp\\anaconda3\\lib\\site-packages (from tensorflow-intel==2.11.0->tensorflow) (15.0.6.1)\n",
      "Requirement already satisfied: six>=1.12.0 in c:\\users\\hp\\anaconda3\\lib\\site-packages (from tensorflow-intel==2.11.0->tensorflow) (1.16.0)\n",
      "Requirement already satisfied: tensorflow-estimator<2.12,>=2.11.0 in c:\\users\\hp\\anaconda3\\lib\\site-packages (from tensorflow-intel==2.11.0->tensorflow) (2.11.0)\n",
      "Requirement already satisfied: wrapt>=1.11.0 in c:\\users\\hp\\anaconda3\\lib\\site-packages (from tensorflow-intel==2.11.0->tensorflow) (1.14.1)\n",
      "Requirement already satisfied: wheel<1.0,>=0.23.0 in c:\\users\\hp\\anaconda3\\lib\\site-packages (from astunparse>=1.6.0->tensorflow-intel==2.11.0->tensorflow) (0.37.1)\n",
      "Requirement already satisfied: requests<3,>=2.21.0 in c:\\users\\hp\\anaconda3\\lib\\site-packages (from tensorboard<2.12,>=2.11->tensorflow-intel==2.11.0->tensorflow) (2.28.1)\n",
      "Requirement already satisfied: google-auth<3,>=1.6.3 in c:\\users\\hp\\anaconda3\\lib\\site-packages (from tensorboard<2.12,>=2.11->tensorflow-intel==2.11.0->tensorflow) (2.16.2)\n",
      "Requirement already satisfied: markdown>=2.6.8 in c:\\users\\hp\\anaconda3\\lib\\site-packages (from tensorboard<2.12,>=2.11->tensorflow-intel==2.11.0->tensorflow) (3.3.4)\n",
      "Requirement already satisfied: google-auth-oauthlib<0.5,>=0.4.1 in c:\\users\\hp\\anaconda3\\lib\\site-packages (from tensorboard<2.12,>=2.11->tensorflow-intel==2.11.0->tensorflow) (0.4.6)\n",
      "Requirement already satisfied: tensorboard-data-server<0.7.0,>=0.6.0 in c:\\users\\hp\\anaconda3\\lib\\site-packages (from tensorboard<2.12,>=2.11->tensorflow-intel==2.11.0->tensorflow) (0.6.1)\n",
      "Requirement already satisfied: tensorboard-plugin-wit>=1.6.0 in c:\\users\\hp\\anaconda3\\lib\\site-packages (from tensorboard<2.12,>=2.11->tensorflow-intel==2.11.0->tensorflow) (1.8.1)\n",
      "Requirement already satisfied: werkzeug>=1.0.1 in c:\\users\\hp\\anaconda3\\lib\\site-packages (from tensorboard<2.12,>=2.11->tensorflow-intel==2.11.0->tensorflow) (2.0.3)\n",
      "Requirement already satisfied: pyparsing!=3.0.5,>=2.0.2 in c:\\users\\hp\\anaconda3\\lib\\site-packages (from packaging->tensorflow-intel==2.11.0->tensorflow) (3.0.9)\n",
      "Requirement already satisfied: rsa<5,>=3.1.4 in c:\\users\\hp\\anaconda3\\lib\\site-packages (from google-auth<3,>=1.6.3->tensorboard<2.12,>=2.11->tensorflow-intel==2.11.0->tensorflow) (4.9)\n",
      "Requirement already satisfied: cachetools<6.0,>=2.0.0 in c:\\users\\hp\\anaconda3\\lib\\site-packages (from google-auth<3,>=1.6.3->tensorboard<2.12,>=2.11->tensorflow-intel==2.11.0->tensorflow) (5.3.0)\n",
      "Requirement already satisfied: pyasn1-modules>=0.2.1 in c:\\users\\hp\\anaconda3\\lib\\site-packages (from google-auth<3,>=1.6.3->tensorboard<2.12,>=2.11->tensorflow-intel==2.11.0->tensorflow) (0.2.8)\n",
      "Requirement already satisfied: requests-oauthlib>=0.7.0 in c:\\users\\hp\\anaconda3\\lib\\site-packages (from google-auth-oauthlib<0.5,>=0.4.1->tensorboard<2.12,>=2.11->tensorflow-intel==2.11.0->tensorflow) (1.3.1)\n",
      "Requirement already satisfied: urllib3<1.27,>=1.21.1 in c:\\users\\hp\\anaconda3\\lib\\site-packages (from requests<3,>=2.21.0->tensorboard<2.12,>=2.11->tensorflow-intel==2.11.0->tensorflow) (1.26.11)\n",
      "Requirement already satisfied: certifi>=2017.4.17 in c:\\users\\hp\\anaconda3\\lib\\site-packages (from requests<3,>=2.21.0->tensorboard<2.12,>=2.11->tensorflow-intel==2.11.0->tensorflow) (2022.9.14)\n",
      "Requirement already satisfied: charset-normalizer<3,>=2 in c:\\users\\hp\\anaconda3\\lib\\site-packages (from requests<3,>=2.21.0->tensorboard<2.12,>=2.11->tensorflow-intel==2.11.0->tensorflow) (2.0.4)\n",
      "Requirement already satisfied: idna<4,>=2.5 in c:\\users\\hp\\anaconda3\\lib\\site-packages (from requests<3,>=2.21.0->tensorboard<2.12,>=2.11->tensorflow-intel==2.11.0->tensorflow) (3.3)\n",
      "Requirement already satisfied: pyasn1<0.5.0,>=0.4.6 in c:\\users\\hp\\anaconda3\\lib\\site-packages (from pyasn1-modules>=0.2.1->google-auth<3,>=1.6.3->tensorboard<2.12,>=2.11->tensorflow-intel==2.11.0->tensorflow) (0.4.8)\n",
      "Requirement already satisfied: oauthlib>=3.0.0 in c:\\users\\hp\\anaconda3\\lib\\site-packages (from requests-oauthlib>=0.7.0->google-auth-oauthlib<0.5,>=0.4.1->tensorboard<2.12,>=2.11->tensorflow-intel==2.11.0->tensorflow) (3.2.2)\n",
      "Note: you may need to restart the kernel to use updated packages.\n"
     ]
    },
    {
     "name": "stderr",
     "output_type": "stream",
     "text": [
      "WARNING: Ignoring invalid distribution -atplotlib (c:\\users\\hp\\anaconda3\\lib\\site-packages)\n",
      "WARNING: Ignoring invalid distribution -atplotlib (c:\\users\\hp\\anaconda3\\lib\\site-packages)\n",
      "WARNING: Ignoring invalid distribution -atplotlib (c:\\users\\hp\\anaconda3\\lib\\site-packages)\n",
      "WARNING: Ignoring invalid distribution -atplotlib (c:\\users\\hp\\anaconda3\\lib\\site-packages)\n",
      "WARNING: Ignoring invalid distribution -atplotlib (c:\\users\\hp\\anaconda3\\lib\\site-packages)\n",
      "WARNING: Ignoring invalid distribution -atplotlib (c:\\users\\hp\\anaconda3\\lib\\site-packages)\n"
     ]
    }
   ],
   "source": [
    "pip install tensorflow"
   ]
  },
  {
   "cell_type": "code",
   "execution_count": 37,
   "id": "537a3c66",
   "metadata": {},
   "outputs": [],
   "source": [
    "import keras\n",
    "from keras.models import Sequential\n",
    "from keras.layers import Dense"
   ]
  },
  {
   "cell_type": "code",
   "execution_count": 38,
   "id": "5ed17e61",
   "metadata": {},
   "outputs": [],
   "source": [
    "classifier = Sequential()"
   ]
  },
  {
   "cell_type": "code",
   "execution_count": 39,
   "id": "51551ecc",
   "metadata": {},
   "outputs": [],
   "source": [
    "classifier.add(Dense(units=5, activation = 'relu'))"
   ]
  },
  {
   "cell_type": "code",
   "execution_count": 40,
   "id": "c73560a0",
   "metadata": {},
   "outputs": [],
   "source": [
    "classifier.add(Dense(units=5, activation = 'relu'))"
   ]
  },
  {
   "cell_type": "code",
   "execution_count": 41,
   "id": "ced8131f",
   "metadata": {},
   "outputs": [],
   "source": [
    "classifier.add(Dense(units=1, activation = 'sigmoid'))"
   ]
  },
  {
   "cell_type": "code",
   "execution_count": 42,
   "id": "ab3ff4d4",
   "metadata": {},
   "outputs": [],
   "source": [
    "classifier.compile(optimizer = 'adam', loss = 'binary_crossentropy', metrics = ['accuracy'])"
   ]
  },
  {
   "cell_type": "code",
   "execution_count": 43,
   "id": "d17047a0",
   "metadata": {},
   "outputs": [
    {
     "name": "stdout",
     "output_type": "stream",
     "text": [
      "Epoch 1/10\n",
      "3506/3506 [==============================] - 6s 1ms/step - loss: 0.5394 - accuracy: 0.7179\n",
      "Epoch 2/10\n",
      "3506/3506 [==============================] - 5s 1ms/step - loss: 0.5043 - accuracy: 0.7354\n",
      "Epoch 3/10\n",
      "3506/3506 [==============================] - 5s 1ms/step - loss: 0.4997 - accuracy: 0.7401\n",
      "Epoch 4/10\n",
      "3506/3506 [==============================] - 5s 1ms/step - loss: 0.4960 - accuracy: 0.7415\n",
      "Epoch 5/10\n",
      "3506/3506 [==============================] - 5s 1ms/step - loss: 0.4936 - accuracy: 0.7415\n",
      "Epoch 6/10\n",
      "3506/3506 [==============================] - 5s 2ms/step - loss: 0.4915 - accuracy: 0.7447\n",
      "Epoch 7/10\n",
      "3506/3506 [==============================] - 5s 2ms/step - loss: 0.4896 - accuracy: 0.7448\n",
      "Epoch 8/10\n",
      "3506/3506 [==============================] - 5s 1ms/step - loss: 0.4894 - accuracy: 0.7440\n",
      "Epoch 9/10\n",
      "3506/3506 [==============================] - 5s 2ms/step - loss: 0.4883 - accuracy: 0.7441\n",
      "Epoch 10/10\n",
      "3506/3506 [==============================] - 5s 2ms/step - loss: 0.4879 - accuracy: 0.7451\n"
     ]
    },
    {
     "data": {
      "text/plain": [
       "<keras.callbacks.History at 0x2084813f430>"
      ]
     },
     "execution_count": 43,
     "metadata": {},
     "output_type": "execute_result"
    }
   ],
   "source": [
    "classifier.fit(X_train, y_train, batch_size = 10, epochs = 10)"
   ]
  },
  {
   "cell_type": "code",
   "execution_count": 44,
   "id": "638eeb29",
   "metadata": {},
   "outputs": [
    {
     "name": "stdout",
     "output_type": "stream",
     "text": [
      "274/274 [==============================] - 0s 1ms/step\n"
     ]
    }
   ],
   "source": [
    "y_pred = classifier.predict(X_test)\n",
    "y_pred = (y_pred > 0.5)"
   ]
  },
  {
   "cell_type": "code",
   "execution_count": 45,
   "id": "862bea96",
   "metadata": {},
   "outputs": [
    {
     "name": "stdout",
     "output_type": "stream",
     "text": [
      "ANN 0.7439817455790074\n"
     ]
    }
   ],
   "source": [
    "print(\"ANN\" , accuracy_score( y_test,y_pred))"
   ]
  },
  {
   "cell_type": "code",
   "execution_count": 46,
   "id": "8073f0d8",
   "metadata": {},
   "outputs": [],
   "source": [
    "results.append(accuracy_score(y_test,y_pred))\n",
    "names.append('ANN')"
   ]
  },
  {
   "cell_type": "code",
   "execution_count": 47,
   "id": "6c95d89a",
   "metadata": {},
   "outputs": [
    {
     "name": "stdout",
     "output_type": "stream",
     "text": [
      "MLP 0.795094124358243\n"
     ]
    }
   ],
   "source": [
    "#MLP\n",
    "from sklearn.neural_network import MLPClassifier\n",
    "mlp = MLPClassifier()\n",
    "mlp.fit(X_train,y_train)\n",
    "score=mlp.score(X_test,y_test)\n",
    "print(\"MLP\" , score)"
   ]
  },
  {
   "cell_type": "code",
   "execution_count": 48,
   "id": "c2e9033e",
   "metadata": {},
   "outputs": [],
   "source": [
    "results.append(mlp.score(X_test,y_test))\n",
    "names.append('MLP')"
   ]
  },
  {
   "cell_type": "code",
   "execution_count": 49,
   "id": "37e0b742",
   "metadata": {},
   "outputs": [
    {
     "data": {
      "text/plain": [
       "ExtraTreesClassifier(max_depth=30, n_estimators=300, random_state=0)"
      ]
     },
     "execution_count": 49,
     "metadata": {},
     "output_type": "execute_result"
    }
   ],
   "source": [
    "#Extra tree Regressor\n",
    "from sklearn.ensemble import ExtraTreesClassifier\n",
    "ET = ExtraTreesClassifier(n_estimators=300,max_depth=30, random_state=0)\n",
    "ET.fit(X_train, y_train)"
   ]
  },
  {
   "cell_type": "code",
   "execution_count": 50,
   "id": "90097e3f",
   "metadata": {},
   "outputs": [],
   "source": [
    "y_pred = ET.predict(X_test)"
   ]
  },
  {
   "cell_type": "code",
   "execution_count": 51,
   "id": "5aa0ff24",
   "metadata": {},
   "outputs": [
    {
     "name": "stdout",
     "output_type": "stream",
     "text": [
      "[1 0 0 ... 1 0 0]\n"
     ]
    }
   ],
   "source": [
    "print(y_pred)"
   ]
  },
  {
   "cell_type": "code",
   "execution_count": 52,
   "id": "84f8cbb6",
   "metadata": {},
   "outputs": [
    {
     "name": "stdout",
     "output_type": "stream",
     "text": [
      "Extra Tree Regressor 0.8707358813462636\n"
     ]
    }
   ],
   "source": [
    "print(\"Extra Tree Regressor\" , accuracy_score(y_test,y_pred))"
   ]
  },
  {
   "cell_type": "code",
   "execution_count": 53,
   "id": "c5fca149",
   "metadata": {},
   "outputs": [
    {
     "name": "stdout",
     "output_type": "stream",
     "text": [
      "RMSE: 0.3595331954823316\n"
     ]
    }
   ],
   "source": [
    "#Evaluation metrics\n",
    "from sklearn.metrics import mean_squared_error\n",
    "rmse = mean_squared_error(y_test, y_pred, squared=False)\n",
    "print(\"RMSE:\", rmse)"
   ]
  },
  {
   "cell_type": "code",
   "execution_count": 54,
   "id": "d2eb1d20",
   "metadata": {},
   "outputs": [
    {
     "name": "stdout",
     "output_type": "stream",
     "text": [
      "Mean Squared Error (MSE): 0.13\n"
     ]
    }
   ],
   "source": [
    "from sklearn.metrics import mean_squared_error\n",
    "mse = mean_squared_error(y_test, y_pred)\n",
    "print(\"Mean Squared Error (MSE): {:.2f}\".format(mse))"
   ]
  },
  {
   "cell_type": "code",
   "execution_count": 55,
   "id": "e9c597bd",
   "metadata": {},
   "outputs": [
    {
     "name": "stdout",
     "output_type": "stream",
     "text": [
      "Precision: 0.8204891555145363\n",
      "Recall: 0.7049960348929422\n",
      "F1-score: 0.7583706547238218\n"
     ]
    }
   ],
   "source": [
    "from sklearn.metrics import precision_score, recall_score, f1_score\n",
    "precision = precision_score(y_test, y_pred)\n",
    "recall = recall_score(y_test, y_pred)\n",
    "f1 = f1_score(y_test, y_pred)\n",
    "\n",
    "print(\"Precision:\", precision)\n",
    "print(\"Recall:\", recall)\n",
    "print(\"F1-score:\", f1)"
   ]
  },
  {
   "cell_type": "code",
   "execution_count": 56,
   "id": "88a1d4de",
   "metadata": {},
   "outputs": [],
   "source": [
    "results.append(accuracy_score(y_test,y_pred))\n",
    "names.append('ETR')"
   ]
  },
  {
   "cell_type": "code",
   "execution_count": 57,
   "id": "aa0fcfac",
   "metadata": {},
   "outputs": [
    {
     "name": "stdout",
     "output_type": "stream",
     "text": [
      "['LR', 'KNN', 'GNB', 'DT', 'ANN', 'MLP', 'ETR']\n",
      "[0.7403308613804905, 0.7122646891043924, 0.47278950370792927, 0.7388476896748432, 0.7439817455790074, 0.795094124358243, 0.8707358813462636]\n"
     ]
    }
   ],
   "source": [
    "print(names)\n",
    "print(results)"
   ]
  },
  {
   "cell_type": "code",
   "execution_count": 58,
   "id": "392fd91f",
   "metadata": {},
   "outputs": [],
   "source": [
    "for i in range(len(results)):\n",
    "    results[i] = round(results[i], 6)"
   ]
  },
  {
   "cell_type": "code",
   "execution_count": 59,
   "id": "fb193e8d",
   "metadata": {},
   "outputs": [
    {
     "name": "stdout",
     "output_type": "stream",
     "text": [
      "['LR', 'KNN', 'GNB', 'DT', 'ANN', 'MLP', 'ETR']\n",
      "[0.740331, 0.712265, 0.47279, 0.738848, 0.743982, 0.795094, 0.870736]\n"
     ]
    }
   ],
   "source": [
    "print(names)\n",
    "print(results)"
   ]
  },
  {
   "cell_type": "code",
   "execution_count": null,
   "id": "fcbdb6f8",
   "metadata": {},
   "outputs": [],
   "source": []
  }
 ],
 "metadata": {
  "kernelspec": {
   "display_name": "Python 3 (ipykernel)",
   "language": "python",
   "name": "python3"
  },
  "language_info": {
   "codemirror_mode": {
    "name": "ipython",
    "version": 3
   },
   "file_extension": ".py",
   "mimetype": "text/x-python",
   "name": "python",
   "nbconvert_exporter": "python",
   "pygments_lexer": "ipython3",
   "version": "3.9.13"
  }
 },
 "nbformat": 4,
 "nbformat_minor": 5
}
